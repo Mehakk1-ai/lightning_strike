{
 "cells": [
  {
   "cell_type": "markdown",
   "id": "286dc4b9-2c72-40a2-a10f-44c0df984266",
   "metadata": {},
   "source": [
    "# Importing the Libraries and the Dataset"
   ]
  },
  {
   "cell_type": "code",
   "execution_count": 1,
   "id": "6d501d04-3911-449c-a590-7da58ca8ae66",
   "metadata": {},
   "outputs": [],
   "source": [
    "import numpy as np   #for mathematical operation\n",
    "import pandas as pd  #for data analysis\n",
    "import matplotlib.pyplot as plt   #for data visualisation\n",
    "import seaborn as sns"
   ]
  },
  {
   "cell_type": "code",
   "execution_count": 2,
   "id": "b9efa90a-53ec-457c-89ae-e238ac30970b",
   "metadata": {},
   "outputs": [
    {
     "data": {
      "text/plain": [
       "(3401012, 5)"
      ]
     },
     "execution_count": 2,
     "metadata": {},
     "output_type": "execute_result"
    }
   ],
   "source": [
    "df = pd.read_csv('Lightning Strike(2018).csv')\n",
    "\n",
    "# The shape method returns the total no. of Rows and columns for the Dataset.\n",
    "df.shape"
   ]
  },
  {
   "cell_type": "code",
   "execution_count": 3,
   "id": "8ebdd5de-2b9a-40bf-9c5b-2617c355d58b",
   "metadata": {},
   "outputs": [
    {
     "data": {
      "text/html": [
       "<div>\n",
       "<style scoped>\n",
       "    .dataframe tbody tr th:only-of-type {\n",
       "        vertical-align: middle;\n",
       "    }\n",
       "\n",
       "    .dataframe tbody tr th {\n",
       "        vertical-align: top;\n",
       "    }\n",
       "\n",
       "    .dataframe thead th {\n",
       "        text-align: right;\n",
       "    }\n",
       "</style>\n",
       "<table border=\"1\" class=\"dataframe\">\n",
       "  <thead>\n",
       "    <tr style=\"text-align: right;\">\n",
       "      <th></th>\n",
       "      <th>Unnamed: 0</th>\n",
       "      <th>date</th>\n",
       "      <th>number_of_strikes</th>\n",
       "      <th>x_coord</th>\n",
       "      <th>y_coord</th>\n",
       "    </tr>\n",
       "  </thead>\n",
       "  <tbody>\n",
       "    <tr>\n",
       "      <th>0</th>\n",
       "      <td>3125</td>\n",
       "      <td>2018-08-09</td>\n",
       "      <td>1</td>\n",
       "      <td>-68.0</td>\n",
       "      <td>36.0</td>\n",
       "    </tr>\n",
       "    <tr>\n",
       "      <th>1</th>\n",
       "      <td>3126</td>\n",
       "      <td>2018-08-09</td>\n",
       "      <td>1</td>\n",
       "      <td>-78.7</td>\n",
       "      <td>18.4</td>\n",
       "    </tr>\n",
       "    <tr>\n",
       "      <th>2</th>\n",
       "      <td>3127</td>\n",
       "      <td>2018-08-09</td>\n",
       "      <td>1</td>\n",
       "      <td>-78.1</td>\n",
       "      <td>18.4</td>\n",
       "    </tr>\n",
       "    <tr>\n",
       "      <th>3</th>\n",
       "      <td>3128</td>\n",
       "      <td>2018-08-09</td>\n",
       "      <td>1</td>\n",
       "      <td>-74.5</td>\n",
       "      <td>47.0</td>\n",
       "    </tr>\n",
       "    <tr>\n",
       "      <th>4</th>\n",
       "      <td>3129</td>\n",
       "      <td>2018-08-09</td>\n",
       "      <td>1</td>\n",
       "      <td>-70.4</td>\n",
       "      <td>47.0</td>\n",
       "    </tr>\n",
       "  </tbody>\n",
       "</table>\n",
       "</div>"
      ],
      "text/plain": [
       "   Unnamed: 0        date  number_of_strikes  x_coord  y_coord\n",
       "0        3125  2018-08-09                  1    -68.0     36.0\n",
       "1        3126  2018-08-09                  1    -78.7     18.4\n",
       "2        3127  2018-08-09                  1    -78.1     18.4\n",
       "3        3128  2018-08-09                  1    -74.5     47.0\n",
       "4        3129  2018-08-09                  1    -70.4     47.0"
      ]
     },
     "execution_count": 3,
     "metadata": {},
     "output_type": "execute_result"
    }
   ],
   "source": [
    "# The head function is used to review initial rows of the Dataset.\n",
    "df.head()"
   ]
  },
  {
   "cell_type": "code",
   "execution_count": 4,
   "id": "695a58e8-8e27-4a41-9bc4-3f05c529d6d2",
   "metadata": {},
   "outputs": [],
   "source": [
    "# In order to manipulate the date atrribute, we need to convert it from \n",
    "# string format to Datetime object format.\n",
    "\n",
    "df['date'] = pd.to_datetime(df['date'])"
   ]
  },
  {
   "cell_type": "code",
   "execution_count": 5,
   "id": "2ed08f1a-9291-4270-91a3-5e991ea3b812",
   "metadata": {},
   "outputs": [
    {
     "name": "stdout",
     "output_type": "stream",
     "text": [
      "<class 'pandas.core.frame.DataFrame'>\n",
      "RangeIndex: 3401012 entries, 0 to 3401011\n",
      "Data columns (total 5 columns):\n",
      " #   Column             Dtype         \n",
      "---  ------             -----         \n",
      " 0   Unnamed: 0         int64         \n",
      " 1   date               datetime64[ns]\n",
      " 2   number_of_strikes  int64         \n",
      " 3   x_coord            float64       \n",
      " 4   y_coord            float64       \n",
      "dtypes: datetime64[ns](1), float64(2), int64(2)\n",
      "memory usage: 129.7 MB\n"
     ]
    }
   ],
   "source": [
    "# df.info() returns the Datatypes \n",
    "df.info()"
   ]
  },
  {
   "cell_type": "code",
   "execution_count": 6,
   "id": "959f1ea5-4bd9-43a4-81b2-957447cf3b11",
   "metadata": {},
   "outputs": [
    {
     "data": {
      "text/html": [
       "<div>\n",
       "<style scoped>\n",
       "    .dataframe tbody tr th:only-of-type {\n",
       "        vertical-align: middle;\n",
       "    }\n",
       "\n",
       "    .dataframe tbody tr th {\n",
       "        vertical-align: top;\n",
       "    }\n",
       "\n",
       "    .dataframe thead th {\n",
       "        text-align: right;\n",
       "    }\n",
       "</style>\n",
       "<table border=\"1\" class=\"dataframe\">\n",
       "  <thead>\n",
       "    <tr style=\"text-align: right;\">\n",
       "      <th></th>\n",
       "      <th>Unnamed: 0</th>\n",
       "      <th>date</th>\n",
       "      <th>number_of_strikes</th>\n",
       "      <th>x_coord</th>\n",
       "      <th>y_coord</th>\n",
       "    </tr>\n",
       "  </thead>\n",
       "  <tbody>\n",
       "    <tr>\n",
       "      <th>count</th>\n",
       "      <td>3.401012e+06</td>\n",
       "      <td>3401012</td>\n",
       "      <td>3.401012e+06</td>\n",
       "      <td>3.401012e+06</td>\n",
       "      <td>3.401012e+06</td>\n",
       "    </tr>\n",
       "    <tr>\n",
       "      <th>mean</th>\n",
       "      <td>6.320535e+06</td>\n",
       "      <td>2018-07-13 03:32:02.018505984</td>\n",
       "      <td>1.311403e+01</td>\n",
       "      <td>-9.081778e+01</td>\n",
       "      <td>3.374688e+01</td>\n",
       "    </tr>\n",
       "    <tr>\n",
       "      <th>min</th>\n",
       "      <td>3.125000e+03</td>\n",
       "      <td>2018-01-01 00:00:00</td>\n",
       "      <td>1.000000e+00</td>\n",
       "      <td>-1.418000e+02</td>\n",
       "      <td>1.660000e+01</td>\n",
       "    </tr>\n",
       "    <tr>\n",
       "      <th>25%</th>\n",
       "      <td>2.862834e+06</td>\n",
       "      <td>2018-06-04 00:00:00</td>\n",
       "      <td>2.000000e+00</td>\n",
       "      <td>-1.008000e+02</td>\n",
       "      <td>2.760000e+01</td>\n",
       "    </tr>\n",
       "    <tr>\n",
       "      <th>50%</th>\n",
       "      <td>6.376452e+06</td>\n",
       "      <td>2018-07-18 00:00:00</td>\n",
       "      <td>4.000000e+00</td>\n",
       "      <td>-9.070000e+01</td>\n",
       "      <td>3.350000e+01</td>\n",
       "    </tr>\n",
       "    <tr>\n",
       "      <th>75%</th>\n",
       "      <td>9.301305e+06</td>\n",
       "      <td>2018-08-24 00:00:00</td>\n",
       "      <td>1.200000e+01</td>\n",
       "      <td>-8.130000e+01</td>\n",
       "      <td>3.970000e+01</td>\n",
       "    </tr>\n",
       "    <tr>\n",
       "      <th>max</th>\n",
       "      <td>1.281428e+07</td>\n",
       "      <td>2018-12-31 00:00:00</td>\n",
       "      <td>2.211000e+03</td>\n",
       "      <td>-4.320000e+01</td>\n",
       "      <td>5.170000e+01</td>\n",
       "    </tr>\n",
       "    <tr>\n",
       "      <th>std</th>\n",
       "      <td>3.717905e+06</td>\n",
       "      <td>NaN</td>\n",
       "      <td>3.212099e+01</td>\n",
       "      <td>1.296593e+01</td>\n",
       "      <td>7.838555e+00</td>\n",
       "    </tr>\n",
       "  </tbody>\n",
       "</table>\n",
       "</div>"
      ],
      "text/plain": [
       "         Unnamed: 0                           date  number_of_strikes  \\\n",
       "count  3.401012e+06                        3401012       3.401012e+06   \n",
       "mean   6.320535e+06  2018-07-13 03:32:02.018505984       1.311403e+01   \n",
       "min    3.125000e+03            2018-01-01 00:00:00       1.000000e+00   \n",
       "25%    2.862834e+06            2018-06-04 00:00:00       2.000000e+00   \n",
       "50%    6.376452e+06            2018-07-18 00:00:00       4.000000e+00   \n",
       "75%    9.301305e+06            2018-08-24 00:00:00       1.200000e+01   \n",
       "max    1.281428e+07            2018-12-31 00:00:00       2.211000e+03   \n",
       "std    3.717905e+06                            NaN       3.212099e+01   \n",
       "\n",
       "            x_coord       y_coord  \n",
       "count  3.401012e+06  3.401012e+06  \n",
       "mean  -9.081778e+01  3.374688e+01  \n",
       "min   -1.418000e+02  1.660000e+01  \n",
       "25%   -1.008000e+02  2.760000e+01  \n",
       "50%   -9.070000e+01  3.350000e+01  \n",
       "75%   -8.130000e+01  3.970000e+01  \n",
       "max   -4.320000e+01  5.170000e+01  \n",
       "std    1.296593e+01  7.838555e+00  "
      ]
     },
     "execution_count": 6,
     "metadata": {},
     "output_type": "execute_result"
    }
   ],
   "source": [
    "df.describe(include='all')"
   ]
  },
  {
   "cell_type": "markdown",
   "id": "d554ab24-8e5b-48f4-9537-33ed190ab8e4",
   "metadata": {},
   "source": [
    "# Data Cleaning"
   ]
  },
  {
   "cell_type": "code",
   "execution_count": 7,
   "id": "0e53181f-a6dc-4267-acbc-4181a88e15ec",
   "metadata": {},
   "outputs": [
    {
     "data": {
      "text/html": [
       "<div>\n",
       "<style scoped>\n",
       "    .dataframe tbody tr th:only-of-type {\n",
       "        vertical-align: middle;\n",
       "    }\n",
       "\n",
       "    .dataframe tbody tr th {\n",
       "        vertical-align: top;\n",
       "    }\n",
       "\n",
       "    .dataframe thead th {\n",
       "        text-align: right;\n",
       "    }\n",
       "</style>\n",
       "<table border=\"1\" class=\"dataframe\">\n",
       "  <thead>\n",
       "    <tr style=\"text-align: right;\">\n",
       "      <th></th>\n",
       "      <th>date</th>\n",
       "      <th>number_of_strikes</th>\n",
       "      <th>x_coord</th>\n",
       "      <th>y_coord</th>\n",
       "    </tr>\n",
       "  </thead>\n",
       "  <tbody>\n",
       "    <tr>\n",
       "      <th>0</th>\n",
       "      <td>2018-08-09</td>\n",
       "      <td>1</td>\n",
       "      <td>-68.0</td>\n",
       "      <td>36.0</td>\n",
       "    </tr>\n",
       "    <tr>\n",
       "      <th>1</th>\n",
       "      <td>2018-08-09</td>\n",
       "      <td>1</td>\n",
       "      <td>-78.7</td>\n",
       "      <td>18.4</td>\n",
       "    </tr>\n",
       "    <tr>\n",
       "      <th>2</th>\n",
       "      <td>2018-08-09</td>\n",
       "      <td>1</td>\n",
       "      <td>-78.1</td>\n",
       "      <td>18.4</td>\n",
       "    </tr>\n",
       "    <tr>\n",
       "      <th>3</th>\n",
       "      <td>2018-08-09</td>\n",
       "      <td>1</td>\n",
       "      <td>-74.5</td>\n",
       "      <td>47.0</td>\n",
       "    </tr>\n",
       "    <tr>\n",
       "      <th>4</th>\n",
       "      <td>2018-08-09</td>\n",
       "      <td>1</td>\n",
       "      <td>-70.4</td>\n",
       "      <td>47.0</td>\n",
       "    </tr>\n",
       "    <tr>\n",
       "      <th>5</th>\n",
       "      <td>2018-08-09</td>\n",
       "      <td>1</td>\n",
       "      <td>-98.2</td>\n",
       "      <td>19.5</td>\n",
       "    </tr>\n",
       "    <tr>\n",
       "      <th>6</th>\n",
       "      <td>2018-08-09</td>\n",
       "      <td>1</td>\n",
       "      <td>-70.8</td>\n",
       "      <td>49.0</td>\n",
       "    </tr>\n",
       "    <tr>\n",
       "      <th>7</th>\n",
       "      <td>2018-08-09</td>\n",
       "      <td>1</td>\n",
       "      <td>-96.2</td>\n",
       "      <td>19.3</td>\n",
       "    </tr>\n",
       "    <tr>\n",
       "      <th>8</th>\n",
       "      <td>2018-08-09</td>\n",
       "      <td>1</td>\n",
       "      <td>-95.8</td>\n",
       "      <td>19.3</td>\n",
       "    </tr>\n",
       "    <tr>\n",
       "      <th>9</th>\n",
       "      <td>2018-08-09</td>\n",
       "      <td>1</td>\n",
       "      <td>-99.5</td>\n",
       "      <td>19.8</td>\n",
       "    </tr>\n",
       "  </tbody>\n",
       "</table>\n",
       "</div>"
      ],
      "text/plain": [
       "        date  number_of_strikes  x_coord  y_coord\n",
       "0 2018-08-09                  1    -68.0     36.0\n",
       "1 2018-08-09                  1    -78.7     18.4\n",
       "2 2018-08-09                  1    -78.1     18.4\n",
       "3 2018-08-09                  1    -74.5     47.0\n",
       "4 2018-08-09                  1    -70.4     47.0\n",
       "5 2018-08-09                  1    -98.2     19.5\n",
       "6 2018-08-09                  1    -70.8     49.0\n",
       "7 2018-08-09                  1    -96.2     19.3\n",
       "8 2018-08-09                  1    -95.8     19.3\n",
       "9 2018-08-09                  1    -99.5     19.8"
      ]
     },
     "execution_count": 7,
     "metadata": {},
     "output_type": "execute_result"
    }
   ],
   "source": [
    "# df.drop method is used to get rid of any unnecessary atrributes.\n",
    "\n",
    "df = df.drop(['Unnamed: 0'], axis=1)\n",
    "df.head(10)"
   ]
  },
  {
   "cell_type": "code",
   "execution_count": 8,
   "id": "4820245e-0f02-49c8-b4a3-3061c1168ee9",
   "metadata": {},
   "outputs": [],
   "source": [
    "# df.drop_duplicates() method is used to remove all the duplicated rows, if any.\n",
    "\n",
    "df = df.drop_duplicates()"
   ]
  },
  {
   "cell_type": "code",
   "execution_count": 9,
   "id": "91f67347-3146-4d33-b577-8cfc3996ec6e",
   "metadata": {},
   "outputs": [
    {
     "data": {
      "text/plain": [
       "date                 0\n",
       "number_of_strikes    0\n",
       "x_coord              0\n",
       "y_coord              0\n",
       "dtype: int64"
      ]
     },
     "execution_count": 9,
     "metadata": {},
     "output_type": "execute_result"
    }
   ],
   "source": [
    "# isnull() function returns the null values in a dataset.\n",
    "df.isnull().sum()"
   ]
  },
  {
   "cell_type": "markdown",
   "id": "6891a576-a84b-46a4-80ab-1db92cfa7539",
   "metadata": {},
   "source": [
    "### Outliers"
   ]
  },
  {
   "cell_type": "code",
   "execution_count": 10,
   "id": "d62bfc02-c21b-48e9-8364-c49927c3f874",
   "metadata": {},
   "outputs": [
    {
     "data": {
      "text/plain": [
       "<Axes: ylabel='number_of_strikes'>"
      ]
     },
     "execution_count": 10,
     "metadata": {},
     "output_type": "execute_result"
    },
    {
     "data": {
      "image/png": "[encoded data removed]",
      "text/plain": [
       "<Figure size 640x480 with 1 Axes>"
      ]
     },
     "metadata": {},
     "output_type": "display_data"
    }
   ],
   "source": [
    "sns.boxplot(y=df['number_of_strikes'], showfliers=True)"
   ]
  },
  {
   "cell_type": "code",
   "execution_count": 11,
   "id": "eef8403a-ca85-4ffe-9b00-937258e99ba1",
   "metadata": {},
   "outputs": [
    {
     "data": {
      "text/plain": [
       "count    3.401012e+06\n",
       "mean     1.311403e+01\n",
       "std      3.212099e+01\n",
       "min      1.000000e+00\n",
       "25%      2.000000e+00\n",
       "50%      4.000000e+00\n",
       "75%      1.200000e+01\n",
       "max      2.211000e+03\n",
       "Name: number_of_strikes, dtype: float64"
      ]
     },
     "execution_count": 11,
     "metadata": {},
     "output_type": "execute_result"
    }
   ],
   "source": [
    "df['number_of_strikes'].describe()\n",
    "\n",
    "# the mean, median, percentiles and the max values hint that there are outliers."
   ]
  },
  {
   "cell_type": "code",
   "execution_count": 12,
   "id": "f9abce2d-08e0-423d-ad96-9826b6818c0c",
   "metadata": {},
   "outputs": [
    {
     "name": "stdout",
     "output_type": "stream",
     "text": [
      "2.0 12.0\n"
     ]
    }
   ],
   "source": [
    "# Removing the Outliers\n",
    "# Step 1: Calculate the q1 and q3 values\n",
    "\n",
    "q1 = df['number_of_strikes'].quantile(0.25)\n",
    "q3 = df['number_of_strikes'].quantile(0.75)\n",
    "print(q1, q3)"
   ]
  },
  {
   "cell_type": "code",
   "execution_count": 13,
   "id": "70820ad3-1a55-4419-ad30-55af57b461f3",
   "metadata": {},
   "outputs": [
    {
     "name": "stdout",
     "output_type": "stream",
     "text": [
      "10.0\n"
     ]
    }
   ],
   "source": [
    "# Step 2: Calculate the IQR\n",
    "iqr = q3 - q1\n",
    "print(iqr)"
   ]
  },
  {
   "cell_type": "code",
   "execution_count": 14,
   "id": "7ae97fe4-5edb-49ec-aa10-37c5e45cd5d5",
   "metadata": {},
   "outputs": [
    {
     "name": "stdout",
     "output_type": "stream",
     "text": [
      "-13.0 27.0\n"
     ]
    }
   ],
   "source": [
    "# Step 3: Calculate the Range of the data.\n",
    "lower_limit = q1 - (iqr * 1.5)\n",
    "upper_limit = q3 + (iqr * 1.5)\n",
    "print(lower_limit, upper_limit)"
   ]
  },
  {
   "cell_type": "code",
   "execution_count": 15,
   "id": "e8be980e-d3e5-4653-9ebe-f787a139a549",
   "metadata": {},
   "outputs": [],
   "source": [
    "# Step 4: Filtering the Data\n",
    "df = df[df['number_of_strikes'] <= upper_limit]"
   ]
  },
  {
   "cell_type": "code",
   "execution_count": 16,
   "id": "1bb91e16-a7a0-4d63-9ba1-304b9f94ff73",
   "metadata": {},
   "outputs": [
    {
     "data": {
      "text/plain": [
       "<Axes: ylabel='number_of_strikes'>"
      ]
     },
     "execution_count": 16,
     "metadata": {},
     "output_type": "execute_result"
    },
    {
     "data": {
      "image/png": "[encoded data removed]",
      "text/plain": [
       "<Figure size 640x480 with 1 Axes>"
      ]
     },
     "metadata": {},
     "output_type": "display_data"
    }
   ],
   "source": [
    "sns.boxplot(y=df['number_of_strikes'], showfliers=True)"
   ]
  },
  {
   "cell_type": "markdown",
   "id": "389eec76-ef2a-461e-9197-bfdbd64d5248",
   "metadata": {},
   "source": [
    "# Data Visualization"
   ]
  },
  {
   "cell_type": "code",
   "execution_count": 17,
   "id": "97307d32-1089-496d-a7f3-f78831211493",
   "metadata": {},
   "outputs": [
    {
     "data": {
      "text/html": [
       "<div>\n",
       "<style scoped>\n",
       "    .dataframe tbody tr th:only-of-type {\n",
       "        vertical-align: middle;\n",
       "    }\n",
       "\n",
       "    .dataframe tbody tr th {\n",
       "        vertical-align: top;\n",
       "    }\n",
       "\n",
       "    .dataframe thead th {\n",
       "        text-align: right;\n",
       "    }\n",
       "</style>\n",
       "<table border=\"1\" class=\"dataframe\">\n",
       "  <thead>\n",
       "    <tr style=\"text-align: right;\">\n",
       "      <th></th>\n",
       "      <th>date</th>\n",
       "      <th>number_of_strikes</th>\n",
       "      <th>x_coord</th>\n",
       "      <th>y_coord</th>\n",
       "      <th>year-month</th>\n",
       "    </tr>\n",
       "  </thead>\n",
       "  <tbody>\n",
       "    <tr>\n",
       "      <th>0</th>\n",
       "      <td>2018-08-09</td>\n",
       "      <td>1</td>\n",
       "      <td>-68.0</td>\n",
       "      <td>36.0</td>\n",
       "      <td>2018-08</td>\n",
       "    </tr>\n",
       "    <tr>\n",
       "      <th>1</th>\n",
       "      <td>2018-08-09</td>\n",
       "      <td>1</td>\n",
       "      <td>-78.7</td>\n",
       "      <td>18.4</td>\n",
       "      <td>2018-08</td>\n",
       "    </tr>\n",
       "    <tr>\n",
       "      <th>2</th>\n",
       "      <td>2018-08-09</td>\n",
       "      <td>1</td>\n",
       "      <td>-78.1</td>\n",
       "      <td>18.4</td>\n",
       "      <td>2018-08</td>\n",
       "    </tr>\n",
       "    <tr>\n",
       "      <th>3</th>\n",
       "      <td>2018-08-09</td>\n",
       "      <td>1</td>\n",
       "      <td>-74.5</td>\n",
       "      <td>47.0</td>\n",
       "      <td>2018-08</td>\n",
       "    </tr>\n",
       "    <tr>\n",
       "      <th>4</th>\n",
       "      <td>2018-08-09</td>\n",
       "      <td>1</td>\n",
       "      <td>-70.4</td>\n",
       "      <td>47.0</td>\n",
       "      <td>2018-08</td>\n",
       "    </tr>\n",
       "  </tbody>\n",
       "</table>\n",
       "</div>"
      ],
      "text/plain": [
       "        date  number_of_strikes  x_coord  y_coord year-month\n",
       "0 2018-08-09                  1    -68.0     36.0    2018-08\n",
       "1 2018-08-09                  1    -78.7     18.4    2018-08\n",
       "2 2018-08-09                  1    -78.1     18.4    2018-08\n",
       "3 2018-08-09                  1    -74.5     47.0    2018-08\n",
       "4 2018-08-09                  1    -70.4     47.0    2018-08"
      ]
     },
     "execution_count": 17,
     "metadata": {},
     "output_type": "execute_result"
    }
   ],
   "source": [
    "# we need to structure the data acc. to the year and month to better visualize the data.\n",
    "\n",
    "df['year-month'] = df['date'].dt.strftime('%Y-%m')\n",
    "df.head()"
   ]
  },
  {
   "cell_type": "code",
   "execution_count": 22,
   "id": "f5e524f0-dd4a-46e8-8a4a-a456157864ee",
   "metadata": {},
   "outputs": [
    {
     "data": {
      "text/html": [
       "<div>\n",
       "<style scoped>\n",
       "    .dataframe tbody tr th:only-of-type {\n",
       "        vertical-align: middle;\n",
       "    }\n",
       "\n",
       "    .dataframe tbody tr th {\n",
       "        vertical-align: top;\n",
       "    }\n",
       "\n",
       "    .dataframe thead th {\n",
       "        text-align: right;\n",
       "    }\n",
       "</style>\n",
       "<table border=\"1\" class=\"dataframe\">\n",
       "  <thead>\n",
       "    <tr style=\"text-align: right;\">\n",
       "      <th></th>\n",
       "      <th>year-month</th>\n",
       "      <th>number_of_strikes</th>\n",
       "      <th>x_coord</th>\n",
       "      <th>y_coord</th>\n",
       "    </tr>\n",
       "  </thead>\n",
       "  <tbody>\n",
       "    <tr>\n",
       "      <th>0</th>\n",
       "      <td>2018-01</td>\n",
       "      <td>273625</td>\n",
       "      <td>-4333430.8</td>\n",
       "      <td>1569950.1</td>\n",
       "    </tr>\n",
       "    <tr>\n",
       "      <th>1</th>\n",
       "      <td>2018-02</td>\n",
       "      <td>357729</td>\n",
       "      <td>-4536461.1</td>\n",
       "      <td>1617088.3</td>\n",
       "    </tr>\n",
       "    <tr>\n",
       "      <th>2</th>\n",
       "      <td>2018-03</td>\n",
       "      <td>430877</td>\n",
       "      <td>-8111220.1</td>\n",
       "      <td>3235768.3</td>\n",
       "    </tr>\n",
       "    <tr>\n",
       "      <th>3</th>\n",
       "      <td>2018-04</td>\n",
       "      <td>731396</td>\n",
       "      <td>-12107819.5</td>\n",
       "      <td>4442517.1</td>\n",
       "    </tr>\n",
       "    <tr>\n",
       "      <th>4</th>\n",
       "      <td>2018-05</td>\n",
       "      <td>2046258</td>\n",
       "      <td>-35694991.5</td>\n",
       "      <td>14076944.7</td>\n",
       "    </tr>\n",
       "    <tr>\n",
       "      <th>5</th>\n",
       "      <td>2018-06</td>\n",
       "      <td>2492402</td>\n",
       "      <td>-38752470.9</td>\n",
       "      <td>15193002.9</td>\n",
       "    </tr>\n",
       "    <tr>\n",
       "      <th>6</th>\n",
       "      <td>2018-07</td>\n",
       "      <td>3625787</td>\n",
       "      <td>-59451468.8</td>\n",
       "      <td>22168794.0</td>\n",
       "    </tr>\n",
       "    <tr>\n",
       "      <th>7</th>\n",
       "      <td>2018-08</td>\n",
       "      <td>4278316</td>\n",
       "      <td>-52985236.9</td>\n",
       "      <td>19470301.3</td>\n",
       "    </tr>\n",
       "    <tr>\n",
       "      <th>8</th>\n",
       "      <td>2018-09</td>\n",
       "      <td>1735797</td>\n",
       "      <td>-32404645.7</td>\n",
       "      <td>11201065.3</td>\n",
       "    </tr>\n",
       "    <tr>\n",
       "      <th>9</th>\n",
       "      <td>2018-10</td>\n",
       "      <td>675756</td>\n",
       "      <td>-15014833.3</td>\n",
       "      <td>5205533.7</td>\n",
       "    </tr>\n",
       "    <tr>\n",
       "      <th>10</th>\n",
       "      <td>2018-11</td>\n",
       "      <td>276827</td>\n",
       "      <td>-5902983.7</td>\n",
       "      <td>2170997.1</td>\n",
       "    </tr>\n",
       "    <tr>\n",
       "      <th>11</th>\n",
       "      <td>2018-12</td>\n",
       "      <td>229019</td>\n",
       "      <td>-4743411.5</td>\n",
       "      <td>1652642.9</td>\n",
       "    </tr>\n",
       "  </tbody>\n",
       "</table>\n",
       "</div>"
      ],
      "text/plain": [
       "   year-month  number_of_strikes     x_coord     y_coord\n",
       "0     2018-01             273625  -4333430.8   1569950.1\n",
       "1     2018-02             357729  -4536461.1   1617088.3\n",
       "2     2018-03             430877  -8111220.1   3235768.3\n",
       "3     2018-04             731396 -12107819.5   4442517.1\n",
       "4     2018-05            2046258 -35694991.5  14076944.7\n",
       "5     2018-06            2492402 -38752470.9  15193002.9\n",
       "6     2018-07            3625787 -59451468.8  22168794.0\n",
       "7     2018-08            4278316 -52985236.9  19470301.3\n",
       "8     2018-09            1735797 -32404645.7  11201065.3\n",
       "9     2018-10             675756 -15014833.3   5205533.7\n",
       "10    2018-11             276827  -5902983.7   2170997.1\n",
       "11    2018-12             229019  -4743411.5   1652642.9"
      ]
     },
     "execution_count": 22,
     "metadata": {},
     "output_type": "execute_result"
    }
   ],
   "source": [
    "# Grouping the data on the basis of month of the year.\n",
    "\n",
    "df_by_month = df.groupby(by=['year-month']).sum(numeric_only=True).reset_index()\n",
    "df_by_month"
   ]
  },
  {
   "cell_type": "code",
   "execution_count": 24,
   "id": "4e3fb657-99b5-412f-8d3b-ae0e230693c3",
   "metadata": {},
   "outputs": [
    {
     "data": {
      "text/html": [
       "<div>\n",
       "<style scoped>\n",
       "    .dataframe tbody tr th:only-of-type {\n",
       "        vertical-align: middle;\n",
       "    }\n",
       "\n",
       "    .dataframe tbody tr th {\n",
       "        vertical-align: top;\n",
       "    }\n",
       "\n",
       "    .dataframe thead th {\n",
       "        text-align: right;\n",
       "    }\n",
       "</style>\n",
       "<table border=\"1\" class=\"dataframe\">\n",
       "  <thead>\n",
       "    <tr style=\"text-align: right;\">\n",
       "      <th></th>\n",
       "      <th>year-month</th>\n",
       "      <th>number_of_strikes</th>\n",
       "    </tr>\n",
       "  </thead>\n",
       "  <tbody>\n",
       "    <tr>\n",
       "      <th>0</th>\n",
       "      <td>2018-01</td>\n",
       "      <td>273625</td>\n",
       "    </tr>\n",
       "    <tr>\n",
       "      <th>1</th>\n",
       "      <td>2018-02</td>\n",
       "      <td>357729</td>\n",
       "    </tr>\n",
       "    <tr>\n",
       "      <th>2</th>\n",
       "      <td>2018-03</td>\n",
       "      <td>430877</td>\n",
       "    </tr>\n",
       "    <tr>\n",
       "      <th>3</th>\n",
       "      <td>2018-04</td>\n",
       "      <td>731396</td>\n",
       "    </tr>\n",
       "    <tr>\n",
       "      <th>4</th>\n",
       "      <td>2018-05</td>\n",
       "      <td>2046258</td>\n",
       "    </tr>\n",
       "    <tr>\n",
       "      <th>5</th>\n",
       "      <td>2018-06</td>\n",
       "      <td>2492402</td>\n",
       "    </tr>\n",
       "    <tr>\n",
       "      <th>6</th>\n",
       "      <td>2018-07</td>\n",
       "      <td>3625787</td>\n",
       "    </tr>\n",
       "    <tr>\n",
       "      <th>7</th>\n",
       "      <td>2018-08</td>\n",
       "      <td>4278316</td>\n",
       "    </tr>\n",
       "    <tr>\n",
       "      <th>8</th>\n",
       "      <td>2018-09</td>\n",
       "      <td>1735797</td>\n",
       "    </tr>\n",
       "    <tr>\n",
       "      <th>9</th>\n",
       "      <td>2018-10</td>\n",
       "      <td>675756</td>\n",
       "    </tr>\n",
       "    <tr>\n",
       "      <th>10</th>\n",
       "      <td>2018-11</td>\n",
       "      <td>276827</td>\n",
       "    </tr>\n",
       "    <tr>\n",
       "      <th>11</th>\n",
       "      <td>2018-12</td>\n",
       "      <td>229019</td>\n",
       "    </tr>\n",
       "  </tbody>\n",
       "</table>\n",
       "</div>"
      ],
      "text/plain": [
       "   year-month  number_of_strikes\n",
       "0     2018-01             273625\n",
       "1     2018-02             357729\n",
       "2     2018-03             430877\n",
       "3     2018-04             731396\n",
       "4     2018-05            2046258\n",
       "5     2018-06            2492402\n",
       "6     2018-07            3625787\n",
       "7     2018-08            4278316\n",
       "8     2018-09            1735797\n",
       "9     2018-10             675756\n",
       "10    2018-11             276827\n",
       "11    2018-12             229019"
      ]
     },
     "execution_count": 24,
     "metadata": {},
     "output_type": "execute_result"
    }
   ],
   "source": [
    "df_by_month = df_by_month.drop(['x_coord', 'y_coord'], axis=1)\n",
    "df_by_month"
   ]
  },
  {
   "cell_type": "code",
   "execution_count": 28,
   "id": "5a27d1b0-5a84-481f-9427-37f5235ecdd8",
   "metadata": {},
   "outputs": [
    {
     "data": {
      "image/png": "[encoded data removed]",
      "text/plain": [
       "<Figure size 1000x500 with 1 Axes>"
      ]
     },
     "metadata": {},
     "output_type": "display_data"
    }
   ],
   "source": [
    "# Visualizing the Results.\n",
    "plt.figure(figsize=(10, 5))\n",
    "plt.bar(df_by_month['year-month'], df_by_month['number_of_strikes'])\n",
    "plt.xlabel('Months')\n",
    "plt.ylabel('No. of Strikes')\n",
    "plt.title('No. of strikes per month')\n",
    "plt.xticks(rotation=45)\n",
    "plt.show()"
   ]
  },
  {
   "cell_type": "code",
   "execution_count": null,
   "id": "1a7a919d-a6f9-4646-bc0d-c7d959f8f7f5",
   "metadata": {},
   "outputs": [],
   "source": []
  }
 ],
 "metadata": {
  "kernelspec": {
   "display_name": "Python 3 (ipykernel)",
   "language": "python",
   "name": "python3"
  },
  "language_info": {
   "codemirror_mode": {
    "name": "ipython",
    "version": 3
   },
   "file_extension": ".py",
   "mimetype": "text/x-python",
   "name": "python",
   "nbconvert_exporter": "python",
   "pygments_lexer": "ipython3",
   "version": "3.10.13"
  }
 },
 "nbformat": 4,
 "nbformat_minor": 5
}
